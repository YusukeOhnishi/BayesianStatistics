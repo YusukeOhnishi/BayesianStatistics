{
 "cells": [
  {
   "cell_type": "code",
   "execution_count": 1,
   "id": "c2842a81-5db0-4324-9f21-fb3844dbe0a9",
   "metadata": {},
   "outputs": [],
   "source": [
    "#ライブラリのインポート\n",
    "import numpy as np\n",
    "from scipy import optimize,stats\n",
    "import matplotlib.pyplot as plt\n",
    "%matplotlib inline\n",
    "\n",
    "#グラフの見た目変更\n",
    "plt.style.use(\"ggplot\")"
   ]
  },
  {
   "cell_type": "code",
   "execution_count": 2,
   "id": "085c932d-6e88-42b8-9a43-a836a8dbeab3",
   "metadata": {},
   "outputs": [
    {
     "data": {
      "image/png": "[encoded data removed]",
      "text/plain": [
       "<Figure size 432x288 with 1 Axes>"
      ]
     },
     "metadata": {},
     "output_type": "display_data"
    }
   ],
   "source": [
    "#データの作成\n",
    "#データ数\n",
    "N=1000\n",
    "\n",
    "#乱数のSeedを固定\n",
    "np.random.seed(999)\n",
    "\n",
    "#μ=5,σ=3の正規分布に従うデータを生成\n",
    "value=np.random.normal(5,3,N)\n",
    "\n",
    "#ヒストグラムの表示\n",
    "plt.hist(value,bins=20)\n",
    "plt.savefig('./figure/fig_data.jpg')\n",
    "plt.show()"
   ]
  },
  {
   "cell_type": "code",
   "execution_count": 3,
   "id": "09c000d1-0156-4c2c-b165-ecf7dafa7935",
   "metadata": {},
   "outputs": [],
   "source": [
    "#尤度関数を定義\n",
    "def likelihood(mu,*args):\n",
    "    li_tmp=-np.log(stats.norm.pdf(mu,loc=args))\n",
    "    li=np.sum(li_tmp)\n",
    "    return li"
   ]
  },
  {
   "cell_type": "code",
   "execution_count": 4,
   "id": "5e13413e-105f-4140-88ea-5d10fabb155b",
   "metadata": {},
   "outputs": [
    {
     "data": {
      "text/plain": [
       "      fun: 5719.839975249819\n",
       " hess_inv: array([[0.001]])\n",
       "      jac: array([0.])\n",
       "  message: 'Optimization terminated successfully.'\n",
       "     nfev: 8\n",
       "      nit: 3\n",
       "     njev: 4\n",
       "   status: 0\n",
       "  success: True\n",
       "        x: array([4.94369474])"
      ]
     },
     "execution_count": 4,
     "metadata": {},
     "output_type": "execute_result"
    }
   ],
   "source": [
    "#最小化させる。\n",
    "optimize.minimize(likelihood,1,args=value)"
   ]
  },
  {
   "cell_type": "code",
   "execution_count": null,
   "id": "8dcfd88a-4548-4a9f-8a6a-a5e2dbc324d8",
   "metadata": {},
   "outputs": [],
   "source": []
  }
 ],
 "metadata": {
  "kernelspec": {
   "display_name": "Python 3 (ipykernel)",
   "language": "python",
   "name": "python3"
  },
  "language_info": {
   "codemirror_mode": {
    "name": "ipython",
    "version": 3
   },
   "file_extension": ".py",
   "mimetype": "text/x-python",
   "name": "python",
   "nbconvert_exporter": "python",
   "pygments_lexer": "ipython3",
   "version": "3.8.10"
  }
 },
 "nbformat": 4,
 "nbformat_minor": 5
}
